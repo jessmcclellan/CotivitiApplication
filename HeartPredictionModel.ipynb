{
 "cells": [
  {
   "cell_type": "code",
   "execution_count": 2,
   "metadata": {},
   "outputs": [
    {
     "ename": "ModuleNotFoundError",
     "evalue": "No module named 'panda'",
     "output_type": "error",
     "traceback": [
      "\u001b[1;31m---------------------------------------------------------------------------\u001b[0m",
      "\u001b[1;31mModuleNotFoundError\u001b[0m                       Traceback (most recent call last)",
      "\u001b[1;32mc:\\Users\\Jess\\OneDrive\\Desktop\\Cotiviti Application\\HeartPredictionModel.ipynb Cell 1\u001b[0m line \u001b[0;36m2\n\u001b[0;32m      <a href='vscode-notebook-cell:/c%3A/Users/Jess/OneDrive/Desktop/Cotiviti%20Application/HeartPredictionModel.ipynb#W0sZmlsZQ%3D%3D?line=0'>1</a>\u001b[0m \u001b[39m#Import libraries\u001b[39;00m\n\u001b[1;32m----> <a href='vscode-notebook-cell:/c%3A/Users/Jess/OneDrive/Desktop/Cotiviti%20Application/HeartPredictionModel.ipynb#W0sZmlsZQ%3D%3D?line=1'>2</a>\u001b[0m \u001b[39mimport\u001b[39;00m \u001b[39mpanda\u001b[39;00m \u001b[39mas\u001b[39;00m \u001b[39mpd\u001b[39;00m\n\u001b[0;32m      <a href='vscode-notebook-cell:/c%3A/Users/Jess/OneDrive/Desktop/Cotiviti%20Application/HeartPredictionModel.ipynb#W0sZmlsZQ%3D%3D?line=2'>3</a>\u001b[0m \u001b[39mimport\u001b[39;00m \u001b[39mnumpy\u001b[39;00m \u001b[39mas\u001b[39;00m \u001b[39mnp\u001b[39;00m\n\u001b[0;32m      <a href='vscode-notebook-cell:/c%3A/Users/Jess/OneDrive/Desktop/Cotiviti%20Application/HeartPredictionModel.ipynb#W0sZmlsZQ%3D%3D?line=3'>4</a>\u001b[0m \u001b[39mimport\u001b[39;00m \u001b[39mmatplotlib\u001b[39;00m\u001b[39m.\u001b[39;00m\u001b[39mpyplot\u001b[39;00m \u001b[39mas\u001b[39;00m \u001b[39mplt\u001b[39;00m\n",
      "\u001b[1;31mModuleNotFoundError\u001b[0m: No module named 'panda'"
     ]
    }
   ],
   "source": [
    "#Import libraries\n",
    "import panda as pd\n",
    "import numpy as np\n",
    "import matplotlib.pyplot as plt\n",
    "from sklearn import metrics\n",
    "from sklearn.model_selection import cross_val_score\n",
    "from sklearn.preprocessing import LabelEncoder\n",
    "from sklearn.model_selection import cross_val_predict\n",
    "from sklearn.metrics import confusion_matrix\n",
    "\n"
   ]
  },
  {
   "cell_type": "code",
   "execution_count": null,
   "metadata": {},
   "outputs": [
    {
     "name": "stdout",
     "output_type": "stream",
     "text": [
      "<class 'pandas.core.frame.DataFrame'>\n",
      "RangeIndex: 918 entries, 0 to 917\n",
      "Data columns (total 12 columns):\n",
      " #   Column          Non-Null Count  Dtype  \n",
      "---  ------          --------------  -----  \n",
      " 0   Age             918 non-null    int64  \n",
      " 1   Sex             918 non-null    object \n",
      " 2   ChestPainType   918 non-null    object \n",
      " 3   RestingBP       918 non-null    int64  \n",
      " 4   Cholesterol     918 non-null    int64  \n",
      " 5   FastingBS       918 non-null    int64  \n",
      " 6   RestingECG      918 non-null    object \n",
      " 7   MaxHR           918 non-null    int64  \n",
      " 8   ExerciseAngina  918 non-null    object \n",
      " 9   Oldpeak         918 non-null    float64\n",
      " 10  ST_Slope        918 non-null    object \n",
      " 11  HeartDisease    918 non-null    int64  \n",
      "dtypes: float64(1), int64(6), object(5)\n",
      "memory usage: 86.2+ KB\n"
     ]
    }
   ],
   "source": [
    "#Import Code\n",
    "heart_data = pd.read_csv(\"./heart.csv\", sep=',')\n",
    "heart_data.head()\n",
    "heart_data.info()\n"
   ]
  },
  {
   "cell_type": "code",
   "execution_count": 3,
   "metadata": {},
   "outputs": [
    {
     "data": {
      "text/html": [
       "<div>\n",
       "<style scoped>\n",
       "    .dataframe tbody tr th:only-of-type {\n",
       "        vertical-align: middle;\n",
       "    }\n",
       "\n",
       "    .dataframe tbody tr th {\n",
       "        vertical-align: top;\n",
       "    }\n",
       "\n",
       "    .dataframe thead th {\n",
       "        text-align: right;\n",
       "    }\n",
       "</style>\n",
       "<table border=\"1\" class=\"dataframe\">\n",
       "  <thead>\n",
       "    <tr style=\"text-align: right;\">\n",
       "      <th></th>\n",
       "      <th>Age</th>\n",
       "      <th>RestingBP</th>\n",
       "      <th>Cholesterol</th>\n",
       "      <th>FastingBS</th>\n",
       "      <th>MaxHR</th>\n",
       "      <th>Oldpeak</th>\n",
       "      <th>HeartDisease</th>\n",
       "    </tr>\n",
       "  </thead>\n",
       "  <tbody>\n",
       "    <tr>\n",
       "      <th>count</th>\n",
       "      <td>918.000000</td>\n",
       "      <td>918.000000</td>\n",
       "      <td>918.000000</td>\n",
       "      <td>918.000000</td>\n",
       "      <td>918.000000</td>\n",
       "      <td>918.000000</td>\n",
       "      <td>918.000000</td>\n",
       "    </tr>\n",
       "    <tr>\n",
       "      <th>mean</th>\n",
       "      <td>53.510893</td>\n",
       "      <td>132.396514</td>\n",
       "      <td>198.799564</td>\n",
       "      <td>0.233115</td>\n",
       "      <td>136.809368</td>\n",
       "      <td>0.887364</td>\n",
       "      <td>0.553377</td>\n",
       "    </tr>\n",
       "    <tr>\n",
       "      <th>std</th>\n",
       "      <td>9.432617</td>\n",
       "      <td>18.514154</td>\n",
       "      <td>109.384145</td>\n",
       "      <td>0.423046</td>\n",
       "      <td>25.460334</td>\n",
       "      <td>1.066570</td>\n",
       "      <td>0.497414</td>\n",
       "    </tr>\n",
       "    <tr>\n",
       "      <th>min</th>\n",
       "      <td>28.000000</td>\n",
       "      <td>0.000000</td>\n",
       "      <td>0.000000</td>\n",
       "      <td>0.000000</td>\n",
       "      <td>60.000000</td>\n",
       "      <td>-2.600000</td>\n",
       "      <td>0.000000</td>\n",
       "    </tr>\n",
       "    <tr>\n",
       "      <th>25%</th>\n",
       "      <td>47.000000</td>\n",
       "      <td>120.000000</td>\n",
       "      <td>173.250000</td>\n",
       "      <td>0.000000</td>\n",
       "      <td>120.000000</td>\n",
       "      <td>0.000000</td>\n",
       "      <td>0.000000</td>\n",
       "    </tr>\n",
       "    <tr>\n",
       "      <th>50%</th>\n",
       "      <td>54.000000</td>\n",
       "      <td>130.000000</td>\n",
       "      <td>223.000000</td>\n",
       "      <td>0.000000</td>\n",
       "      <td>138.000000</td>\n",
       "      <td>0.600000</td>\n",
       "      <td>1.000000</td>\n",
       "    </tr>\n",
       "    <tr>\n",
       "      <th>75%</th>\n",
       "      <td>60.000000</td>\n",
       "      <td>140.000000</td>\n",
       "      <td>267.000000</td>\n",
       "      <td>0.000000</td>\n",
       "      <td>156.000000</td>\n",
       "      <td>1.500000</td>\n",
       "      <td>1.000000</td>\n",
       "    </tr>\n",
       "    <tr>\n",
       "      <th>max</th>\n",
       "      <td>77.000000</td>\n",
       "      <td>200.000000</td>\n",
       "      <td>603.000000</td>\n",
       "      <td>1.000000</td>\n",
       "      <td>202.000000</td>\n",
       "      <td>6.200000</td>\n",
       "      <td>1.000000</td>\n",
       "    </tr>\n",
       "  </tbody>\n",
       "</table>\n",
       "</div>"
      ],
      "text/plain": [
       "              Age   RestingBP  Cholesterol   FastingBS       MaxHR  \\\n",
       "count  918.000000  918.000000   918.000000  918.000000  918.000000   \n",
       "mean    53.510893  132.396514   198.799564    0.233115  136.809368   \n",
       "std      9.432617   18.514154   109.384145    0.423046   25.460334   \n",
       "min     28.000000    0.000000     0.000000    0.000000   60.000000   \n",
       "25%     47.000000  120.000000   173.250000    0.000000  120.000000   \n",
       "50%     54.000000  130.000000   223.000000    0.000000  138.000000   \n",
       "75%     60.000000  140.000000   267.000000    0.000000  156.000000   \n",
       "max     77.000000  200.000000   603.000000    1.000000  202.000000   \n",
       "\n",
       "          Oldpeak  HeartDisease  \n",
       "count  918.000000    918.000000  \n",
       "mean     0.887364      0.553377  \n",
       "std      1.066570      0.497414  \n",
       "min     -2.600000      0.000000  \n",
       "25%      0.000000      0.000000  \n",
       "50%      0.600000      1.000000  \n",
       "75%      1.500000      1.000000  \n",
       "max      6.200000      1.000000  "
      ]
     },
     "execution_count": 3,
     "metadata": {},
     "output_type": "execute_result"
    }
   ],
   "source": [
    "heart_data=heart_data.drop_duplicates(\n",
    ")\n",
    "heart_data.describe()"
   ]
  },
  {
   "cell_type": "code",
   "execution_count": 42,
   "metadata": {},
   "outputs": [
    {
     "data": {
      "text/plain": [
       "1    508\n",
       "0    410\n",
       "Name: HeartDisease, dtype: int64"
      ]
     },
     "execution_count": 42,
     "metadata": {},
     "output_type": "execute_result"
    }
   ],
   "source": [
    "heart_data['HeartDisease'].value_counts()"
   ]
  },
  {
   "cell_type": "code",
   "execution_count": 4,
   "metadata": {},
   "outputs": [
    {
     "name": "stdout",
     "output_type": "stream",
     "text": [
      "<class 'pandas.core.frame.DataFrame'>\n",
      "Int64Index: 918 entries, 0 to 917\n",
      "Data columns (total 12 columns):\n",
      " #   Column          Non-Null Count  Dtype  \n",
      "---  ------          --------------  -----  \n",
      " 0   Age             918 non-null    int64  \n",
      " 1   Sex             918 non-null    object \n",
      " 2   ChestPainType   918 non-null    object \n",
      " 3   RestingBP       918 non-null    int64  \n",
      " 4   Cholesterol     918 non-null    int64  \n",
      " 5   FastingBS       918 non-null    int64  \n",
      " 6   RestingECG      918 non-null    object \n",
      " 7   MaxHR           918 non-null    int64  \n",
      " 8   ExerciseAngina  918 non-null    object \n",
      " 9   Oldpeak         918 non-null    float64\n",
      " 10  ST_Slope        918 non-null    object \n",
      " 11  HeartDisease    918 non-null    int64  \n",
      "dtypes: float64(1), int64(6), object(5)\n",
      "memory usage: 93.2+ KB\n"
     ]
    }
   ],
   "source": [
    "#Data Cleaning\n",
    "heart=heart_data.copy()\n",
    "cat_cols=['Sex','ChestPainType','RestingECG','ExerciseAngina','ST_Slope']\n",
    "label_encoder=LabelEncoder()\n",
    "for col in cat_cols:\n",
    "   heart[col]=label_encoder.fit_transform(heart[col])\n",
    "heart.describe()\n",
    "heart_data.info()"
   ]
  },
  {
   "cell_type": "code",
   "execution_count": 5,
   "metadata": {},
   "outputs": [],
   "source": [
    "#create features\n",
    "X=heart.drop(['HeartDisease'], axis=1)\n",
    "\n",
    "#create label\n",
    "y=heart[\"HeartDisease\"]\n",
    "\n",
    "\n"
   ]
  },
  {
   "cell_type": "code",
   "execution_count": 6,
   "metadata": {},
   "outputs": [],
   "source": [
    "from sklearn.model_selection import train_test_split\n",
    "\n",
    "X_train, X_test, y_train, y_test = train_test_split(X,y, test_size = 0.2, random_state=42)\n"
   ]
  },
  {
   "cell_type": "code",
   "execution_count": 7,
   "metadata": {},
   "outputs": [],
   "source": [
    "#Normalize \n",
    "from sklearn.preprocessing import StandardScaler\n",
    "\n",
    "std=StandardScaler()\n",
    "X_train=std.fit_transform(X_train)\n",
    "X_test=std.fit_transform(X_test)\n"
   ]
  },
  {
   "cell_type": "markdown",
   "metadata": {},
   "source": [
    "Picking the Model"
   ]
  },
  {
   "cell_type": "code",
   "execution_count": 8,
   "metadata": {},
   "outputs": [],
   "source": [
    "#Perfect Predictons\n",
    "y_train_perfect=y_train\n",
    "perf_matrix=confusion_matrix(y_train,y_train_perfect)"
   ]
  },
  {
   "cell_type": "code",
   "execution_count": 54,
   "metadata": {},
   "outputs": [
    {
     "name": "stdout",
     "output_type": "stream",
     "text": [
      "[0.82040816 0.81632653 0.80327869]\n",
      "[[270  63]\n",
      " [ 74 327]]\n",
      "[[ 63 -63]\n",
      " [-74  74]]\n",
      "0.8384615384615385\n",
      "0.8154613466334164\n",
      "0.8268015170670038\n",
      "0.8133514986376021\n"
     ]
    }
   ],
   "source": [
    "#SGD\n",
    "from sklearn.linear_model import SGDClassifier\n",
    "\n",
    "SGD=SGDClassifier(random_state=42)\n",
    "SGD.fit(X_train, y_train)\n",
    "\n",
    "from sklearn.model_selection import cross_val_score\n",
    "cross_val_SGD=cross_val_score(SGD, X_train, y_train, cv=3, scoring=\"accuracy\")\n",
    "print(cross_val_SGD)\n",
    "y_train_pred_SGD=cross_val_predict(SGD, X_train, y_train, cv=3)\n",
    "\n",
    "matrix_SGD=confusion_matrix(y_train, y_train_pred_SGD)\n",
    "print(matrix_SGD)\n",
    "\n",
    "SGD_diff=perf_matrix-matrix_SGD\n",
    "print(SGD_diff)\n",
    "\n",
    "#Precision\n",
    "from sklearn.metrics import precision_score, recall_score, accuracy_score\n",
    "SGD_prec=precision_score(y_train, y_train_pred_SGD)\n",
    "print(SGD_prec)\n",
    "#Recall\n",
    "SGD_recall=recall_score(y_train, y_train_pred_SGD)\n",
    "print(SGD_recall)\n",
    "#f1\n",
    "from sklearn.metrics import f1_score\n",
    "f1_SGD=f1_score(y_train, y_train_pred_SGD)\n",
    "print(f1_SGD)\n",
    "#accuracy\n",
    "accuracy_SGD=accuracy_score(y_train,y_train_pred_SGD)\n",
    "print(accuracy_SGD)"
   ]
  },
  {
   "cell_type": "code",
   "execution_count": 56,
   "metadata": {},
   "outputs": [
    {
     "name": "stdout",
     "output_type": "stream",
     "text": [
      "[0.87346939 0.82857143 0.85245902]\n",
      "[[273  60]\n",
      " [ 49 352]]\n",
      "[[ 60 -60]\n",
      " [-49  49]]\n",
      "0.8543689320388349\n",
      "0.8778054862842892\n",
      "0.8659286592865927\n",
      "0.8514986376021798\n"
     ]
    }
   ],
   "source": [
    "#LOG\n",
    "from sklearn.linear_model import LogisticRegression\n",
    "\n",
    "LOG=LogisticRegression(random_state=42)\n",
    "LOG.fit(X_train, y_train)\n",
    "\n",
    "from sklearn.model_selection import cross_val_score\n",
    "\n",
    "cross_val_LOG=cross_val_score(LOG, X_train, y_train, cv=3, scoring=\"accuracy\")\n",
    "print(cross_val_LOG)\n",
    "y_train_pred_LOG=cross_val_predict(LOG, X_train, y_train, cv=3)\n",
    "\n",
    "matrix_LOG=confusion_matrix(y_train, y_train_pred_LOG)\n",
    "print(matrix_LOG)\n",
    "\n",
    "#difference between perfect model\n",
    "LOG_diff=perf_matrix-matrix_LOG\n",
    "print(LOG_diff)\n",
    "\n",
    "LOG_prec=precision_score(y_train, y_train_pred_LOG)\n",
    "print(LOG_prec)\n",
    "#Recall\n",
    "LOG_recall=recall_score(y_train, y_train_pred_LOG)\n",
    "print(LOG_recall)\n",
    "#f1\n",
    "from sklearn.metrics import f1_score\n",
    "f1_LOG=f1_score(y_train, y_train_pred_LOG)\n",
    "print(f1_LOG)\n",
    "#accuracy\n",
    "accuracy_LOG=accuracy_score(y_train,y_train_pred_LOG)\n",
    "print(accuracy_LOG)"
   ]
  },
  {
   "cell_type": "code",
   "execution_count": 59,
   "metadata": {},
   "outputs": [
    {
     "name": "stdout",
     "output_type": "stream",
     "text": [
      "[0.88163265 0.84081633 0.8442623 ]\n",
      "[[273  60]\n",
      " [ 49 352]]\n",
      "[[ 58 -58]\n",
      " [-48  48]]\n",
      "0.8588807785888077\n",
      "0.8802992518703242\n",
      "0.8694581280788177\n",
      "0.8555858310626703\n"
     ]
    }
   ],
   "source": [
    "#K-Nearest\n",
    "from sklearn.neighbors import KNeighborsClassifier\n",
    "knn=KNeighborsClassifier()\n",
    "knn.fit(X_train, y_train)\n",
    "\n",
    "from sklearn.model_selection import cross_val_score\n",
    "cross_val_knn=cross_val_score(knn, X_train, y_train, cv=3, scoring=\"accuracy\")\n",
    "\n",
    "print(cross_val_knn)\n",
    "y_train_pred_knn=cross_val_predict(knn, X_train, y_train, cv=3)\n",
    "\n",
    "matrix_knn=confusion_matrix(y_train, y_train_pred_knn)\n",
    "print(matrix_LOG)\n",
    "\n",
    "#difference between perfect model\n",
    "knn_diff=perf_matrix-matrix_knn\n",
    "print(knn_diff)\n",
    "\n",
    "knn_prec=precision_score(y_train, y_train_pred_knn)\n",
    "print(knn_prec)\n",
    "#Recall\n",
    "knn_recall=recall_score(y_train, y_train_pred_knn)\n",
    "print(knn_recall)\n",
    "#f1\n",
    "from sklearn.metrics import f1_score\n",
    "f1_knn=f1_score(y_train, y_train_pred_knn)\n",
    "print(f1_knn)\n",
    "#accuracy\n",
    "accuracy_knn=accuracy_score(y_train,y_train_pred_knn)\n",
    "print(accuracy_knn)\n",
    "\n"
   ]
  },
  {
   "cell_type": "code",
   "execution_count": 60,
   "metadata": {},
   "outputs": [
    {
     "name": "stdout",
     "output_type": "stream",
     "text": [
      "[0.8        0.80408163 0.77459016]\n",
      "[[253  80]\n",
      " [ 75 326]]\n",
      "[[ 80 -80]\n",
      " [-75  75]]\n",
      "0.8029556650246306\n",
      "0.8129675810473815\n",
      "0.8079306071871127\n",
      "0.7888283378746594\n"
     ]
    }
   ],
   "source": [
    "#Decision Tree\n",
    "from sklearn.tree import DecisionTreeClassifier\n",
    "dtc=DecisionTreeClassifier()\n",
    "dtc.fit(X_train, y_train)\n",
    "\n",
    "DTC=cross_val_score(dtc, X_train, y_train, cv=3, scoring=\"accuracy\")\n",
    "\n",
    "print(DTC)\n",
    "y_train_pred_dtc=cross_val_predict(dtc, X_train, y_train, cv=3)\n",
    "\n",
    "matrix_dtc=confusion_matrix(y_train, y_train_pred_dtc)\n",
    "print(matrix_dtc)\n",
    "\n",
    "#difference between perfect model\n",
    "dtc_diff=perf_matrix-matrix_dtc\n",
    "print(dtc_diff)\n",
    "\n",
    "dtc_prec=precision_score(y_train, y_train_pred_dtc)\n",
    "print(dtc_prec)\n",
    "#Recall\n",
    "dtc_recall=recall_score(y_train, y_train_pred_dtc)\n",
    "print(dtc_recall)\n",
    "#f1\n",
    "from sklearn.metrics import f1_score\n",
    "f1_dtc=f1_score(y_train, y_train_pred_dtc)\n",
    "print(f1_dtc)\n",
    "#accuracy\n",
    "accuracy_dtc=accuracy_score(y_train,y_train_pred_dtc)\n",
    "print(accuracy_dtc)\n",
    "\n"
   ]
  },
  {
   "cell_type": "code",
   "execution_count": 88,
   "metadata": {},
   "outputs": [
    {
     "name": "stdout",
     "output_type": "stream",
     "text": [
      "[0.87755102 0.85714286 0.85245902]\n",
      "[[274  59]\n",
      " [ 42 359]]\n",
      "[[ 59 -59]\n",
      " [-42  42]]\n",
      "0.8588516746411483\n",
      "0.8952618453865336\n",
      "0.8079306071871127\n",
      "0.8623978201634878\n"
     ]
    }
   ],
   "source": [
    "from sklearn.ensemble import RandomForestClassifier\n",
    "rf = RandomForestClassifier()\n",
    "rf.fit(X_train, y_train)\n",
    "\n",
    "\n",
    "\n",
    "rf_score=cross_val_score(rf, X_train, y_train, cv=3, scoring=\"accuracy\")\n",
    "\n",
    "print(rf_score)\n",
    "y_train_pred_rf=cross_val_predict(rf, X_train, y_train, cv=3)\n",
    "\n",
    "matrix_rf=confusion_matrix(y_train, y_train_pred_rf)\n",
    "print(matrix_rf)\n",
    "\n",
    "#difference between perfect model\n",
    "rf_diff=perf_matrix-matrix_rf\n",
    "print(rf_diff)\n",
    "\n",
    "\n",
    "\n",
    "rf_prec=precision_score(y_train, y_train_pred_rf)\n",
    "print(rf_prec)\n",
    "#Recall\n",
    "rf_recall=recall_score(y_train, y_train_pred_rf)\n",
    "print(rf_recall)\n",
    "#f1\n",
    "from sklearn.metrics import f1_score\n",
    "f1_rf=f1_score(y_train, y_train_pred_rf)\n",
    "print(f1_dtc)\n",
    "#accuracy\n",
    "accuracy_rf=accuracy_score(y_train,y_train_pred_rf)\n",
    "print(accuracy_rf)\n",
    "\n"
   ]
  },
  {
   "cell_type": "code",
   "execution_count": 95,
   "metadata": {},
   "outputs": [
    {
     "name": "stdout",
     "output_type": "stream",
     "text": [
      "0.5463215258855586\n",
      "1.0\n",
      "0.7066079295154186\n",
      "0.5463215258855586\n"
     ]
    }
   ],
   "source": [
    "#Dummy\n",
    "from sklearn.dummy import DummyClassifier\n",
    "dummy=DummyClassifier()\n",
    "dummy.fit(X_train, y_train)\n",
    "\n",
    "cross_val_score(dummy, X_train, y_train, cv=3, scoring=\"accuracy\")\n",
    "\n",
    "y_train_pred_dum=cross_val_predict(dummy, X_train, y_train, cv=3)\n",
    "\n",
    "dum_prec=precision_score(y_train, y_train_pred_dum)\n",
    "print(dum_prec)\n",
    "#Recall\n",
    "dum_recall=recall_score(y_train, y_train_pred_dum)\n",
    "print(dum_recall)\n",
    "#f1\n",
    "from sklearn.metrics import f1_score\n",
    "f1_dum=f1_score(y_train, y_train_pred_dum)\n",
    "print(f1_dum)\n",
    "#accuracy\n",
    "accuracy_dum=accuracy_score(y_train,y_train_pred_dum)\n",
    "print(accuracy_dum)"
   ]
  },
  {
   "cell_type": "code",
   "execution_count": 104,
   "metadata": {},
   "outputs": [
    {
     "data": {
      "text/html": [
       "<div>\n",
       "<style scoped>\n",
       "    .dataframe tbody tr th:only-of-type {\n",
       "        vertical-align: middle;\n",
       "    }\n",
       "\n",
       "    .dataframe tbody tr th {\n",
       "        vertical-align: top;\n",
       "    }\n",
       "\n",
       "    .dataframe thead th {\n",
       "        text-align: right;\n",
       "    }\n",
       "</style>\n",
       "<table border=\"1\" class=\"dataframe\">\n",
       "  <thead>\n",
       "    <tr style=\"text-align: right;\">\n",
       "      <th></th>\n",
       "      <th>Model</th>\n",
       "      <th>Precision</th>\n",
       "      <th>Recall</th>\n",
       "      <th>F1</th>\n",
       "      <th>Accuracy</th>\n",
       "    </tr>\n",
       "  </thead>\n",
       "  <tbody>\n",
       "    <tr>\n",
       "      <th>0</th>\n",
       "      <td>SGDClassifier(random_state=42)</td>\n",
       "      <td>83.85</td>\n",
       "      <td>81.55</td>\n",
       "      <td>86.59</td>\n",
       "      <td>81.34</td>\n",
       "    </tr>\n",
       "    <tr>\n",
       "      <th>1</th>\n",
       "      <td>LogisticRegression(random_state=42)</td>\n",
       "      <td>85.44</td>\n",
       "      <td>87.78</td>\n",
       "      <td>86.95</td>\n",
       "      <td>85.56</td>\n",
       "    </tr>\n",
       "    <tr>\n",
       "      <th>2</th>\n",
       "      <td>KNeighborsClassifier()</td>\n",
       "      <td>85.89</td>\n",
       "      <td>88.03</td>\n",
       "      <td>86.95</td>\n",
       "      <td>85.56</td>\n",
       "    </tr>\n",
       "    <tr>\n",
       "      <th>3</th>\n",
       "      <td>DecisionTreeClassifier()</td>\n",
       "      <td>80.30</td>\n",
       "      <td>81.30</td>\n",
       "      <td>80.79</td>\n",
       "      <td>78.88</td>\n",
       "    </tr>\n",
       "    <tr>\n",
       "      <th>4</th>\n",
       "      <td>RandomForestClassifier()</td>\n",
       "      <td>85.89</td>\n",
       "      <td>89.53</td>\n",
       "      <td>88.08</td>\n",
       "      <td>86.24</td>\n",
       "    </tr>\n",
       "    <tr>\n",
       "      <th>5</th>\n",
       "      <td>DummyClassifier()</td>\n",
       "      <td>54.63</td>\n",
       "      <td>100.00</td>\n",
       "      <td>70.66</td>\n",
       "      <td>54.63</td>\n",
       "    </tr>\n",
       "  </tbody>\n",
       "</table>\n",
       "</div>"
      ],
      "text/plain": [
       "                                 Model  Precision  Recall     F1  Accuracy\n",
       "0       SGDClassifier(random_state=42)      83.85   81.55  86.59     81.34\n",
       "1  LogisticRegression(random_state=42)      85.44   87.78  86.95     85.56\n",
       "2               KNeighborsClassifier()      85.89   88.03  86.95     85.56\n",
       "3             DecisionTreeClassifier()      80.30   81.30  80.79     78.88\n",
       "4             RandomForestClassifier()      85.89   89.53  88.08     86.24\n",
       "5                    DummyClassifier()      54.63  100.00  70.66     54.63"
      ]
     },
     "metadata": {},
     "output_type": "display_data"
    }
   ],
   "source": [
    "table=[[SGD, round(SGD_prec*100,2), round(SGD_recall*100,2), round(f1_SGD*100,2), round(accuracy_SGD*100,2) ],\n",
    "       [LOG, round(LOG_prec*100,2), round(LOG_recall*100,2), round(f1_LOG*100,2), round(accuracy_LOG*100,2) ],\n",
    "       [knn, round(knn_prec*100,2), round(knn_recall*100,2), round(f1_knn*100,2), round(accuracy_knn*100,2) ],\n",
    "       [dtc, round(dtc_prec*100,2), round(dtc_recall*100,2), round(f1_dtc*100,2), round(accuracy_dtc*100,2) ],\n",
    "       ['RandomForestClassifier()', round(rf_prec*100,2), round(rf_recall*100,2), round(f1_rf*100,2), round(accuracy_rf*100,2) ],\n",
    "       [dummy, round(dum_prec*100,2), round(dum_recall*100,2), round(f1_dum*100,2), round(accuracy_dum*100,2)\n",
    "       ]]\n",
    "\n",
    "df=pd.DataFrame(table, columns=['Model','Precision','Recall','F1','Accuracy'])\n",
    "display(df)"
   ]
  },
  {
   "cell_type": "code",
   "execution_count": 64,
   "metadata": {},
   "outputs": [],
   "source": [
    "#get predicted probabilities\n",
    "y_pred_proba = rf.predict_proba(X_test)[:,1]"
   ]
  },
  {
   "cell_type": "code",
   "execution_count": 98,
   "metadata": {},
   "outputs": [
    {
     "data": {
      "image/png": "[encoded data removed]",
      "text/plain": [
       "<Figure size 432x288 with 1 Axes>"
      ]
     },
     "metadata": {
      "needs_background": "light"
     },
     "output_type": "display_data"
    }
   ],
   "source": [
    "fpr, tpr, threshold=metrics.roc_curve(y_test, y_pred_proba)\n",
    "roc_auc=metrics.auc(fpr,tpr)\n",
    "\n",
    "#plot ROC curve\n",
    "plt.plot(fpr, tpr, label='AUC = {:.2f}'.format(roc_auc))\n",
    "plt.plot([0, 1], [0, 1], 'r--')\n",
    "plt.xlabel('False Positive Rate')\n",
    "plt.ylabel('True Positive Rate')\n",
    "plt.title('ROC Curve')\n",
    "plt.legend(loc='lower right')\n",
    "plt.show()"
   ]
  },
  {
   "cell_type": "code",
   "execution_count": 66,
   "metadata": {},
   "outputs": [],
   "source": [
    "feature_importance=rf.feature_importances_\n",
    "feature_names = [f\"feature {i}\" for i in range(X_train.shape[1])]\n",
    "std=np.std([tree.feature_importances_ for tree in rf.estimators_],axis=0)"
   ]
  },
  {
   "cell_type": "code",
   "execution_count": 67,
   "metadata": {},
   "outputs": [
    {
     "data": {
      "text/plain": [
       "<AxesSubplot:>"
      ]
     },
     "execution_count": 67,
     "metadata": {},
     "output_type": "execute_result"
    },
    {
     "data": {
      "image/png": "[encoded data removed]",
      "text/plain": [
       "<Figure size 432x288 with 1 Axes>"
      ]
     },
     "metadata": {
      "needs_background": "light"
     },
     "output_type": "display_data"
    }
   ],
   "source": [
    "columns_=heart_data.iloc[:,:-1].columns\n",
    "\n",
    "\n",
    "forest_importances=pd.DataFrame(feature_importance, index=columns_, columns=['importance']).sort_values('importance', ascending=False)\n",
    "\n",
    "fig, ax=plt.subplots()\n",
    "forest_importances.plot.bar(yerr=std, ax=ax)\n",
    "\n"
   ]
  },
  {
   "cell_type": "code",
   "execution_count": null,
   "metadata": {},
   "outputs": [],
   "source": []
  }
 ],
 "metadata": {
  "kernelspec": {
   "display_name": "base",
   "language": "python",
   "name": "python3"
  },
  "language_info": {
   "codemirror_mode": {
    "name": "ipython",
    "version": 3
   },
   "file_extension": ".py",
   "mimetype": "text/x-python",
   "name": "python",
   "nbconvert_exporter": "python",
   "pygments_lexer": "ipython3",
   "version": "3.11.5"
  }
 },
 "nbformat": 4,
 "nbformat_minor": 2
}
